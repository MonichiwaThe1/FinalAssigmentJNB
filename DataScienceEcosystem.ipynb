{
 "cells": [
  {
   "cell_type": "markdown",
   "id": "ee3101c9-a00a-4ad1-80f4-90597e48f5b2",
   "metadata": {},
   "source": [
    "# Data Science Tools and Ecosystem"
   ]
  },
  {
   "cell_type": "markdown",
   "id": "064969fa-89b5-4571-9556-af061c3683f9",
   "metadata": {},
   "source": [
    "## In this notebook, Data Science Tools and Ecosystem are summarized."
   ]
  },
  {
   "cell_type": "markdown",
   "id": "ddd57306-feda-4ab3-a2d8-ca3ca19bb6de",
   "metadata": {},
   "source": [
    "**Objectives:\n",
    "- List popular languages for Data Science\n",
    "- List commonly used libraries by Data Scientist\n",
    "- List Data Science Tools\n",
    "- Arithmetics expressions in Python"
   ]
  },
  {
   "cell_type": "markdown",
   "id": "5acad057-36ab-4de6-9678-98bbca612f96",
   "metadata": {
    "tags": []
   },
   "source": [
    "### Some of the popular languages that Data Scientists use are:"
   ]
  },
  {
   "cell_type": "markdown",
   "id": "0689f888-7630-4780-9160-2eb38a97d4b8",
   "metadata": {
    "tags": []
   },
   "source": [
    "1. Python\n",
    "2. SQL\n",
    "3. R\n",
    "4. JavaScript"
   ]
  },
  {
   "cell_type": "markdown",
   "id": "32e8898b-d16e-4c60-b126-a71ca7117346",
   "metadata": {},
   "source": [
    "Some of the commonly used libraries used by Data Scientists include:\n",
    "1. Tensorflow\n",
    "2. MatPlotLib\n",
    "3. Pandas\n",
    "4. Scikit-Learn"
   ]
  },
  {
   "cell_type": "markdown",
   "id": "345ffa65-bd61-44f3-b134-6c00b29b0a8f",
   "metadata": {},
   "source": [
    "|Data Science Tools|\n",
    "|------------------|\n",
    "|Anaconda          |\n",
    "|Jupyter Notebooks |\n",
    "|VS Code           |\n"
   ]
  },
  {
   "cell_type": "markdown",
   "id": "81f28aa2-cbef-4378-87b1-9b0c062268b7",
   "metadata": {
    "tags": []
   },
   "source": [
    "### Below are a few examples of evaluating arithmetic expressions in Python\n"
   ]
  },
  {
   "cell_type": "markdown",
   "id": "39d4580a-2d83-43ab-87ea-f21236da4d0a",
   "metadata": {},
   "source": [
    "This a simple arithmetic expression to mutiply then add integers"
   ]
  },
  {
   "cell_type": "markdown",
   "id": "61d55c57-54f1-4ef8-ab15-22480d4f47df",
   "metadata": {
    "jp-MarkdownHeadingCollapsed": true,
    "tags": []
   },
   "source": [
    "(3*4)+5"
   ]
  },
  {
   "cell_type": "code",
   "execution_count": 12,
   "id": "37f578a5-0691-408e-94ec-c70a7f01d1f1",
   "metadata": {
    "tags": []
   },
   "outputs": [
    {
     "data": {
      "text/plain": [
       "17"
      ]
     },
     "execution_count": 12,
     "metadata": {},
     "output_type": "execute_result"
    }
   ],
   "source": [
    "(3*4)+5"
   ]
  },
  {
   "cell_type": "markdown",
   "id": "792404ae-e400-4d8b-ba5d-0bb4b420dd1b",
   "metadata": {},
   "source": [
    "This will convert 200 minutes to hours by diving by 60"
   ]
  },
  {
   "cell_type": "code",
   "execution_count": 14,
   "id": "d0173014-0e3b-495b-8561-a561668826b5",
   "metadata": {
    "tags": []
   },
   "outputs": [
    {
     "data": {
      "text/plain": [
       "3.3333333333333335"
      ]
     },
     "execution_count": 14,
     "metadata": {},
     "output_type": "execute_result"
    }
   ],
   "source": [
    "minutes=200\n",
    "hours=60\n",
    "minutes/hours"
   ]
  },
  {
   "cell_type": "markdown",
   "id": "5cec3820-0748-4315-8ea9-4d0e7c1d2c86",
   "metadata": {},
   "source": [
    "##Author \n",
    "\n",
    "Monica Checa"
   ]
  },
  {
   "cell_type": "code",
   "execution_count": null,
   "id": "f2d3cdb2-d41c-485a-9149-9095573d60a9",
   "metadata": {},
   "outputs": [],
   "source": []
  }
 ],
 "metadata": {
  "kernelspec": {
   "display_name": "Python",
   "language": "python",
   "name": "conda-env-python-py"
  },
  "language_info": {
   "codemirror_mode": {
    "name": "ipython",
    "version": 3
   },
   "file_extension": ".py",
   "mimetype": "text/x-python",
   "name": "python",
   "nbconvert_exporter": "python",
   "pygments_lexer": "ipython3",
   "version": "3.7.12"
  }
 },
 "nbformat": 4,
 "nbformat_minor": 5
}
